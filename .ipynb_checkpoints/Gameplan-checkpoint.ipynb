{
 "cells": [
  {
   "cell_type": "markdown",
   "metadata": {},
   "source": [
    "# Timeline project 4.2 (7 weeks)\n",
    "\n",
    "## 1. Getting familiar (week 1)\n",
    "* Integrate and learn to use Jupyter Notebook, Numpy, Scanpy, Panda, Matplotlib and Visual Studio Code\n",
    "* Understand the raw given data utilizing Visual Studio Code \n",
    "    * Filtering ?\n",
    "    * array or matrix ?\n",
    "    * many zeros, why ?\n",
    "* Understanding the k-means algorithm \n",
    "* Create timeline presentation (check, if each subgroup needs to do one)\n",
    "* First tries at implementing the basic k-means algorithm in Python\n",
    "    * How to access specific data from np.matrix or np.array ?\n",
    "    * Maximum number of runs ?\n",
    "    * What sort of mean ?\n",
    "    * Create centroid class with Centroids as arrays\n",
    "    * Centroids with random values (in expression range) or random samples ?\n",
    "\n",
    "## 2. Basic k-means (week 2)\n",
    "* Improve rough draft\n",
    "    * Already acomplished -> associate every patient to closest random cluster\n",
    "* apply code on data set\n",
    "* compare with sklearn code\n",
    "* Debug if necessary\n",
    "* Improve timeline presentation if necessary\n",
    "\n",
    "## 3. Mini-batch k-means (week 3)\n",
    "* add code to basic k-means reducing the samples randomly\n",
    "* compare with sklearn code\n",
    "* debug/improve if necessary\n",
    "\n",
    "## 4. K-means++ (week 4)\n",
    "* Understanding k-means++ and D^2 method\n",
    "* first tries at implementing k-means ++\n",
    "\n",
    "## 5. K-means++(week 5)\n",
    "* Improve k-means++\n",
    "* compare with sklearn code\n",
    "* debug/improve if necessary\n",
    "\n",
    "## 6. Bonus Task ? (week 6)\n",
    "## 7. Clean up (week 7)\n",
    "* make code pretty and comprehensible\n",
    "* create final presentation\n",
    "* celebrate"
   ]
  }
 ],
 "metadata": {
  "kernelspec": {
   "display_name": "Python 3",
   "language": "python",
   "name": "python3"
  },
  "language_info": {
   "codemirror_mode": {
    "name": "ipython",
    "version": 3
   },
   "file_extension": ".py",
   "mimetype": "text/x-python",
   "name": "python",
   "nbconvert_exporter": "python",
   "pygments_lexer": "ipython3",
   "version": "3.6.8"
  }
 },
 "nbformat": 4,
 "nbformat_minor": 2
}

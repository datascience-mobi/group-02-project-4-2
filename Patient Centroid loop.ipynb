{
 "cells": [
  {
   "cell_type": "markdown",
   "metadata": {},
   "source": [
    "#Calculating Distance"
   ]
  },
  {
   "cell_type": "code",
   "execution_count": null,
   "metadata": {},
   "outputs": [],
   "source": [
    "#dist(patient#, centroid#) already exists\n",
    "#Loop über alle Patienten \n",
    "    #über alle k centroids (hier dirn dist())\n",
    "    # possiblle verwerfbar\n",
    "#definiere d0 als maximalen distanzwert    \n",
    "sml_distance = 0\n",
    "#while loop selecting every patients\n",
    "while (i < patients):\n",
    "\n",
    "    #while loop selecting every centroid\n",
    "    while (j < k):\n",
    "                if dist (i,j) < sml_distance or sml_distance != 0\n",
    "                    sml_distance = dist(i,j)\n",
    "\n",
    "            \n",
    "                nearest_centroid = centroids_array[j]\n",
    "            k =+ 1\n",
    "    i =+ 1"
   ]
  }
 ],
 "metadata": {
  "kernelspec": {
   "display_name": "Python 3",
   "language": "python",
   "name": "python3"
  },
  "language_info": {
   "codemirror_mode": {
    "name": "ipython",
    "version": 3
   },
   "file_extension": ".py",
   "mimetype": "text/x-python",
   "name": "python",
   "nbconvert_exporter": "python",
   "pygments_lexer": "ipython3",
   "version": "3.6.8"
  }
 },
 "nbformat": 4,
 "nbformat_minor": 2
}
